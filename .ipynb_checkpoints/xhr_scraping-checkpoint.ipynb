{
 "metadata": {
  "name": ""
 },
 "nbformat": 3,
 "nbformat_minor": 0,
 "worksheets": [
  {
   "cells": [
    {
     "cell_type": "code",
     "collapsed": false,
     "input": [
      "import requests\n",
      "import lxml.html\n",
      "import simplejson as json\n",
      "\n",
      "#fifth from the bottum at http://www.missingkids.com/search?action=continueSearch&searchSubject=child\n",
      "r = requests.get(\"http://www.missingkids.com/missingkids/servlet/JSONDataServlet\")\n",
      "if r.status_code == 200:\n",
      "    print r.text\n",
      "    \n",
      "    "
     ],
     "language": "python",
     "metadata": {},
     "outputs": [
      {
       "output_type": "stream",
       "stream": "stdout",
       "text": [
        "Error: Invalid Request.\n"
       ]
      }
     ],
     "prompt_number": 6
    }
   ],
   "metadata": {}
  }
 ]
}