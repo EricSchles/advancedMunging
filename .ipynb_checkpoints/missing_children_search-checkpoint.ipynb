{
 "metadata": {
  "name": ""
 },
 "nbformat": 3,
 "nbformat_minor": 0,
 "worksheets": [
  {
   "cells": [
    {
     "cell_type": "code",
     "collapsed": false,
     "input": [
      "#helpful guide - http://thiagomarzagao.com/2013/11/12/webscraping-with-selenium-part-1/\n",
      "from selenium import webdriver\n",
      "from selenium.common.exceptions import TimeoutException\n",
      "from selenium.webdriver.support.ui import WebDriverWait\n",
      "from selenium.webdriver.support.ui import Select\n",
      "from selenium.webdriver.common.by import By\n",
      "from selenium.webdriver.support import expected_conditions as EC\n",
      "from selenium.common.exceptions import NoSuchElementException\n",
      "\n",
      "driver = webdriver.Firefox()\n",
      "driver.get(\"http://www.missingkids.com/search?action=continueSearch&searchSubject=child\")\n",
      "WebDriverWait(driver,100).until(EC.element_to_be_clickable((By.XPATH, '//input[@name=\"fromDate\"]')))\n",
      "start_date = driver.find_element_by_xpath('//input[@name=\"fromDate\"]')\n",
      "end_date = driver.find_element_by_xpath('//input[@name=\"toDate\"]')\n",
      "submit_button = driver.find_element_by_xpath('//form[@id=\"missingKidsSearchForm\"]/input[@value=\"Submit\"]')\n",
      "start_date.send_keys(\"8/1/2014\")\n",
      "end_date.send_keys(\"8/3/2014\")\n",
      "submit_button.click()\n",
      "\n",
      "#print dir(submit_button)\n",
      "WebDriverWait(driver,100).until(EC.element_to_be_clickable((By.XPATH, '//div[@class=\"mk-personThumbnail personThumbnail child-1 clearfix mk-clearfix\"]')))\n",
      "table = driver.find_element_by_xpath('//div[@class=\"mk-personThumbnail personThumbnail child-1 clearfix mk-clearfix\"]')\n",
      "print table.text\n"
     ],
     "language": "python",
     "metadata": {},
     "outputs": [
      {
       "output_type": "stream",
       "stream": "stdout",
       "text": [
        "Lavanta Bethea\n",
        "Missing Since\n",
        "Aug 3, 2014\n",
        "Missing From\n",
        "Mulberry, FL\n",
        "Age Now\n",
        "14\n"
       ]
      }
     ],
     "prompt_number": 13
    }
   ],
   "metadata": {}
  }
 ]
}