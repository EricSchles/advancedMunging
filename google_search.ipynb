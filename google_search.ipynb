{
 "metadata": {
  "name": ""
 },
 "nbformat": 3,
 "nbformat_minor": 0,
 "worksheets": [
  {
   "cells": [
    {
     "cell_type": "code",
     "collapsed": false,
     "input": [
      "from selenium import webdriver\n",
      "\n",
      "driver = webdriver.Firefox()\n",
      "driver.get('https://www.google.com')"
     ],
     "language": "python",
     "metadata": {},
     "outputs": [],
     "prompt_number": 2
    },
    {
     "cell_type": "code",
     "collapsed": false,
     "input": [
      "#http://selenium-python.readthedocs.org/\n",
      "#http://irwinkwan.com/2013/04/05/automating-the-web-with-selenium-complete-tasks-automatically-and-write-test-cases/\n",
      "from selenium import webdriver\n",
      "from selenium.webdriver.common.keys import Keys\n",
      "from selenium.webdriver.support.ui import WebDriverWait\n",
      "from selenium.webdriver.support import expected_conditions as EC\n",
      "from selenium.common.exceptions import TimeoutException\n",
      "from selenium.webdriver.support.ui import Select\n",
      "from selenium.webdriver.common.by import By\n",
      "from selenium.common.exceptions import NoSuchElementException\n",
      "driver = webdriver.Firefox()\n",
      "driver.get(\"https://www.google.com\")\n",
      "elem = driver.find_element_by_name(\"q\")\n",
      "elem.send_keys(\"human trafficking\")\n",
      "elem.submit()\n",
      "WebDriverWait(driver,10).until(EC.title_contains(\"human trafficking\"))\n",
      "print driver.title"
     ],
     "language": "python",
     "metadata": {},
     "outputs": [
      {
       "output_type": "stream",
       "stream": "stdout",
       "text": [
        "human trafficking - Google Search\n"
       ]
      }
     ],
     "prompt_number": 3
    }
   ],
   "metadata": {}
  }
 ]
}